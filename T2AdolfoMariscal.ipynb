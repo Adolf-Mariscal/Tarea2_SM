{
 "cells": [
  {
   "cell_type": "markdown",
   "metadata": {},
   "source": [
    "![](https://python.rs/pylogo.png)"
    "Adolfo Mariscal Villafuerte"
   ]
  },
  {
   "cell_type": "markdown",
   "metadata": {},
   "source": [
    "# 2do RESUMEN\n",
    "\n",
    "> Los lenguajes de programación y los estilos de codificación estan cambiando tan rápidamente que es un trabajo real descubrir cuáles valen su tiempo y dinero. De tal manera que [Python](https://es.wikipedia.org/wiki/Python) es una herramienta que vale la pena invertir.\n"
   ]
  },
  {
   "cell_type": "markdown",
   "metadata": {},
   "source": [
    "## HISTORIA\n",
    "\n",
    "**Python** ganó 3.62 puntos porcentuales año tras año en el índice Tiobe de enero de 2019, superando los aumentos de Visual Basic. **Python** fue *creado en 1989* por el programador holandés [Guido van Rossum][1], quien renunció a su papel de \"dictador benevolente de por vida\" de **Python** en julio. **Python** ingresó a los tres primeros en el índice de popularidad de Tiobe en septiembre, gracias a su uso en un número creciente de campos. Los desarrolladores con proyectos construidos con **Python** 2 deben tomar nota de un anuncio reciente de los desarrolladores de Python de que el soporte para esta versión finalizará el 1 de enero de 2020.\n",
    "\n",
    "[1]: https://es.wikipedia.org/wiki/Guido_van_Rossum"
   ]
  },
  {
   "cell_type": "markdown",
   "metadata": {},
   "source": [
    "<img style=\"float: left; margin: 20px 20px 15px 0px;\" src=\"https://upload.wikimedia.org/wikipedia/commons/thumb/4/4a/Python3-powered_hello-world.svg/1000px-Python3-powered_hello-world.svg.png\" width=\"300px\" height=\"100px\" />\n",
    "\n",
    "### OTROS IDIOMAS\n",
    "\n",
    "Otros idiomas que obtuvieron ganancias significativas durante el año pasado incluyen [MATLAB](https://www.mathworks.com/products/matlab.html), que subió del puesto 18 al 11, y el lenguaje clave de programación de aplicaciones de Android, Kotlin, que subió del puesto 39 al 31. Otros grandes motores incluyen a Rust, que pasó del puesto 46 al 33, y Julia, creado por el MIT, que subió del 47 de enero pasado al 37 de hoy. Los idiomas que disminuyeron significativamente en el índice de Tiobe durante el año pasado incluyen Ruby, que cayó del puesto 11 al 18, y Erlang, del 23 al 50. Además, F # cayó del puesto 40 al 64, mientras que Alice cayó del puesto 26 al 66."
   ]
  },
  {
   "cell_type": "markdown",
   "metadata": {},
   "source": [
    "### Conquistando un nuevo idioma\n",
    "Los 20 idiomas principales en orden descendente para enero de 2019 fueron:\n",
    ">1. Java\n",
    ">2. C \n",
    ">3. **Python** \n",
    ">4. C ++\n",
    ">5. Visual Basic .NET\n",
    ">6. JavaScript\n",
    ">7. C #\n",
    ">8. PHP\n",
    ">9. SQL\n",
    ">10. Objective-C\n",
    ">11. MATLAB\n",
    ">12. R\n",
    ">13. Perl\n",
    ">14. lenguaje ensamblador\n",
    ">15. Swift\n",
    ">16. Go\n",
    ">17. Delphi / Object Pascal\n",
    ">18. Ruby\n",
    ">19. PL / SQL \n",
    ">20. Visual Basic."
   ]
  },
  {
   "cell_type": "markdown",
   "metadata": {},
   "source": [
    "## Facil y Sencillo\n",
    "\n",
    "La facilidad de aprendizaje de **Python** se clasifica constantemente como uno de los lenguajes de programación más fáciles de aprender, y es conocido por su alta confiabilidad y sintaxis simple, que son un atractivo para los nuevos codificadores en particular. *«**Python** es el lenguaje más cercano a lo que yo llamo 'un lenguaje de gratificación instantánea', lo que significa que con muy poco código, puede lograr mucho, incluso si eres un programador novato*», dijo [Karen Panetta](https://www.karenpanetta.com/#about-overview), miembro de IEEE y decana de ingeniería de posgrado. « Muchos de los detalles de bajo nivel 'nerd' de los que solíamos preocuparnos en otros idiomas, como declarar tipos de variables o Python maneja los argumentos, por lo que hace que la programación sea muy flexible y fácil de usar que otros lenguajes ».\n",
    "\n",
    "**La explosión de la inteligencia artificial, el aprendizaje automático y la ciencia de datos en la empresa**\n",
    "\n",
    ">«Vemos casi un renacimiento porque Python ha demostrado ser muy, muy útil para personas que están haciendo el tipo de cosas de inteligencia artificial o aprendizaje automático», dijo el vicepresidente y analista principal de Forrester, Jeff Hammond. También puedes usar Python para DevOps, scripts de sistema, desarrollo web y ciencia de datos, dijo Silge. «Puedes usarlo para hacer casi cualquier cosa», agregó.\n"
   ]
  },
  {
   "cell_type": "markdown",
   "metadata": {},
   "source": [
    "### Bibliografía "
   ]
  },
  {
   "cell_type": "markdown",
   "metadata": {},
   "source": [
    ">Tung, L. (2019). Programming language of the year? Python is standout in latest rankings | ZDNet. Retrieved 2 September 2019, from https://www.zdnet.com/article/programming-language-of-the-year-python-is-standout-in-latest-rankings/\n",
    ">Why Python is so popular with developers: 3 reasons the language has exploded. (2019). Retrieved 2 September 2019,             from  https://www.techrepublic.com/article/why-python-is-so-popular-with-developers-3-reasons-the-language-has-exploded/"
   ]
  }
 ],
 "metadata": {
  "kernelspec": {
   "display_name": "Python 3",
   "language": "python",
   "name": "python3"
  },
  "language_info": {
   "codemirror_mode": {
    "name": "ipython",
    "version": 3
   },
   "file_extension": ".py",
   "mimetype": "text/x-python",
   "name": "python",
   "nbconvert_exporter": "python",
   "pygments_lexer": "ipython3",
   "version": "3.7.3"
  }
 },
 "nbformat": 4,
 "nbformat_minor": 2
}
